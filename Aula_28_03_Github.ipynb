{
  "nbformat": 4,
  "nbformat_minor": 0,
  "metadata": {
    "colab": {
      "name": "Aula 28-03 Github",
      "provenance": [],
      "collapsed_sections": [],
      "authorship_tag": "ABX9TyOv9ERmYpOgy01uGcNli+Du",
      "include_colab_link": true
    },
    "kernelspec": {
      "name": "python3",
      "display_name": "Python 3"
    },
    "language_info": {
      "name": "python"
    }
  },
  "cells": [
    {
      "cell_type": "markdown",
      "metadata": {
        "id": "view-in-github",
        "colab_type": "text"
      },
      "source": [
        "<a href=\"https://colab.research.google.com/github/1lucas1gabriel/Git-Renner-Aula01/blob/main/Aula_28_03_Github.ipynb\" target=\"_parent\"><img src=\"https://colab.research.google.com/assets/colab-badge.svg\" alt=\"Open In Colab\"/></a>"
      ]
    },
    {
      "cell_type": "code",
      "execution_count": null,
      "metadata": {
        "id": "wG3NPgrGsre8"
      },
      "outputs": [],
      "source": [
        "for i in range(4):\n",
        "  print(i)"
      ]
    }
  ]
}